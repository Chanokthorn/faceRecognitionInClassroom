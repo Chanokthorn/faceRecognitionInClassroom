{
 "cells": [
  {
   "cell_type": "code",
   "execution_count": 25,
   "metadata": {},
   "outputs": [],
   "source": [
    "import random\n",
    "import os\n",
    "import string\n",
    "import cv2\n",
    "# fileId = ''.join(random.choice(string.ascii_uppercase + string.digits) for _ in range(20))"
   ]
  },
  {
   "cell_type": "code",
   "execution_count": 26,
   "metadata": {},
   "outputs": [],
   "source": [
    "path = \"../videos/classvid-faces/classvid2\"\n",
    "_files = os.listdir(path)\n",
    "files = []\n",
    "for file in _files:\n",
    "    if file.endswith(\".png\") or file.endswith(\".jpg\"):\n",
    "        files.append(file)"
   ]
  },
  {
   "cell_type": "code",
   "execution_count": 27,
   "metadata": {},
   "outputs": [
    {
     "name": "stdout",
     "output_type": "stream",
     "text": [
      "['../videos/classvid-faces/classvid2/0SE8W.jpg', '../videos/classvid-faces/classvid2/tt.jpg', '../videos/classvid-faces/classvid2/WO800.jpg', '../videos/classvid-faces/classvid2/28BC6.jpg', '../videos/classvid-faces/classvid2/5JGOB.jpg']\n",
      "lol ../videos/classvid-faces/classvid2/RF8KJ.jpg\n",
      "lol ../videos/classvid-faces/classvid2/1L8ZY.jpg\n",
      "lol ../videos/classvid-faces/classvid2/BKLYC.jpg\n",
      "lol ../videos/classvid-faces/classvid2/3ISAA.jpg\n",
      "lol ../videos/classvid-faces/classvid2/2WYHH.jpg\n",
      "done\n"
     ]
    }
   ],
   "source": [
    "faces = []\n",
    "old_files = []\n",
    "new_files = []\n",
    "for file in files:\n",
    "    filePath = path + \"/\" + file\n",
    "    face = cv2.imread(filePath)\n",
    "    faces.append(face)\n",
    "    old_files.append(filePath)\n",
    "print(old_files)\n",
    "for i in range(len(faces)):\n",
    "    face = faces[i]\n",
    "    while True:\n",
    "        new_file = path + '/' + ''.join(random.choice(string.ascii_uppercase + string.digits) for _ in range(5)) + \".jpg\"\n",
    "        print(\"lol\",new_file)\n",
    "        if new_file not in new_files:\n",
    "            new_files.append(new_file)\n",
    "            break\n",
    "    cv2.imwrite(new_file, face)\n",
    "    os.remove(old_files[i])\n",
    "print(\"done\")"
   ]
  },
  {
   "cell_type": "code",
   "execution_count": 17,
   "metadata": {},
   "outputs": [],
   "source": [
    "import shutil\n",
    "import os\n",
    "import string\n",
    "import cv2\n",
    "from shutil import copyfile\n",
    "\n",
    "def mergeFolder(basePath, mainFolder, subFolder):\n",
    "    mainPath = basePath + mainFolder\n",
    "    subPath = basePath + subFolder\n",
    "    subFiles = os.listdir(subPath)\n",
    "    for file in subFiles:\n",
    "        mainFiles = os.listdir(mainPath)\n",
    "        while True:\n",
    "            newFile = ''.join(random.choice(string.ascii_uppercase + string.digits) for _ in range(5)) + \".png\"\n",
    "            if newFile not in mainFiles:\n",
    "                break\n",
    "        copyfile(subPath + '/' + file, mainPath + '/' + newFile)\n",
    "    shutil.rmtree(subPath)\n",
    "    print(\"done\")\n",
    "    "
   ]
  },
  {
   "cell_type": "code",
   "execution_count": 36,
   "metadata": {},
   "outputs": [
    {
     "name": "stdout",
     "output_type": "stream",
     "text": [
      "done\n"
     ]
    }
   ],
   "source": [
    "mergeFolder(basePath=\"/home/bone/Projects/face/secondTermExperiment/videos/classvid-processed/classvid2/processed-classvid2-5-version-0/\",\n",
    "           mainFolder=\"1\",\n",
    "           subFolder=\"49\")\n",
    "\n",
    "\n"
   ]
  },
  {
   "cell_type": "code",
   "execution_count": null,
   "metadata": {},
   "outputs": [],
   "source": []
  }
 ],
 "metadata": {
  "kernelspec": {
   "display_name": "Python 3",
   "language": "python",
   "name": "python3"
  },
  "language_info": {
   "codemirror_mode": {
    "name": "ipython",
    "version": 3
   },
   "file_extension": ".py",
   "mimetype": "text/x-python",
   "name": "python",
   "nbconvert_exporter": "python",
   "pygments_lexer": "ipython3",
   "version": "3.6.7"
  }
 },
 "nbformat": 4,
 "nbformat_minor": 2
}
